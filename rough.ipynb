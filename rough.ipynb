{
 "cells": [
  {
   "cell_type": "code",
   "execution_count": 3,
   "id": "ce59c6c1",
   "metadata": {},
   "outputs": [
    {
     "name": "stdout",
     "output_type": "stream",
     "text": [
      "2 3\n"
     ]
    }
   ],
   "source": [
    "n,k=map(int,input().split())\n"
   ]
  },
  {
   "cell_type": "code",
   "execution_count": 28,
   "id": "03c6adc1",
   "metadata": {},
   "outputs": [
    {
     "name": "stdout",
     "output_type": "stream",
     "text": [
      "6 5 4\n",
      "11 11 11 14 11\n",
      "x 14\n",
      "150452836\n"
     ]
    }
   ],
   "source": [
    "# T=int(input())\n",
    "N,K,R=map(int,input().split())\n",
    "l=list(map(int,input().split()))\n",
    "def ans(l,N,K,R):\n",
    "    def fact(n):\n",
    "        ans=1\n",
    "        for i in range(2,n+1):\n",
    "            ans*=i\n",
    "        return ans\n",
    "    def comb(n,r):\n",
    "        return (fact(n)/(fact(r)*fact(n-r)))\n",
    "    for i in range(N):\n",
    "        if l.count(l[i])==1:\n",
    "            x=l[i]\n",
    "            index=i\n",
    "            break\n",
    "    print(\"x\",x)\n",
    "    ab=comb(2*R,R)\n",
    "    \n",
    "    hh=x**ab\n",
    "    return hh\n",
    "    #return pow(x,ab,(10**9)+7)\n",
    "aa=int(ans(l,N,K,R))\n",
    "aaa=aa%(10**9+7)\n",
    "print(aaa)\n"
   ]
  },
  {
   "cell_type": "code",
   "execution_count": 7,
   "id": "59d003f2",
   "metadata": {},
   "outputs": [
    {
     "data": {
      "text/plain": [
       "4"
      ]
     },
     "execution_count": 7,
     "metadata": {},
     "output_type": "execute_result"
    }
   ],
   "source": [
    "[11,11,11,14,11].count(11)"
   ]
  },
  {
   "cell_type": "code",
   "execution_count": 27,
   "id": "32cfcbdb",
   "metadata": {},
   "outputs": [
    {
     "data": {
      "text/plain": [
       "int"
      ]
     },
     "execution_count": 27,
     "metadata": {},
     "output_type": "execute_result"
    }
   ],
   "source": [
    "type(14**70)\n",
    "\n"
   ]
  },
  {
   "cell_type": "code",
   "execution_count": 22,
   "id": "e0a55114",
   "metadata": {},
   "outputs": [
    {
     "name": "stdout",
     "output_type": "stream",
     "text": [
      "10\n"
     ]
    }
   ],
   "source": [
    "a=10.6\n",
    "a=int(a)\n",
    "print(a)"
   ]
  },
  {
   "cell_type": "code",
   "execution_count": 32,
   "id": "5f830200",
   "metadata": {},
   "outputs": [
    {
     "name": "stdout",
     "output_type": "stream",
     "text": [
      "{1: -1, 2: -1, 3: -1, 4: -1}\n"
     ]
    }
   ],
   "source": [
    "A=[1,2,3,4,3,2]\n",
    "d={}\n",
    "for i in range(len(A)):\n",
    "    d[A[i]]=-1\n",
    "print(d)"
   ]
  },
  {
   "cell_type": "code",
   "execution_count": 1,
   "id": "b446944d",
   "metadata": {},
   "outputs": [
    {
     "ename": "TabError",
     "evalue": "inconsistent use of tabs and spaces in indentation (<ipython-input-1-bd2e59338e55>, line 28)",
     "output_type": "error",
     "traceback": [
      "\u001b[1;36m  File \u001b[1;32m\"<ipython-input-1-bd2e59338e55>\"\u001b[1;36m, line \u001b[1;32m28\u001b[0m\n\u001b[1;33m    kkk=divide(a,0,k)\u001b[0m\n\u001b[1;37m                     ^\u001b[0m\n\u001b[1;31mTabError\u001b[0m\u001b[1;31m:\u001b[0m inconsistent use of tabs and spaces in indentation\n"
     ]
    }
   ],
   "source": [
    "from typing import *\n",
    "\n",
    "def minimizedMaximumNumber(n: int, k: int, a: List[int]) -> int :\n",
    "\t# Write your code here.\n",
    "    def divide(a,i,k):\n",
    "       \n",
    "        if sorted(a)[0]-sorted(a)[-1]==0:\n",
    "            return a[0]\n",
    "        if i==k:\n",
    "        \ta.sort()\n",
    "        \treturn max(aaa)\n",
    "            \n",
    "            \n",
    "        else:\n",
    "            a.sort()\n",
    "            z=a.pop(-1)\n",
    "            if z%2==0:\n",
    "                a.append(int(z/2))\n",
    "                a.append(int(z/2))\n",
    "           \n",
    "            else:\n",
    "                m=a[0]\n",
    "                a.append(z-m)\n",
    "                a.append(m)\n",
    "              \n",
    "            \n",
    "            return divide(a,i+1,k)  \n",
    "\tkkk=divide(a,0,k)\n",
    "    return kkk\n",
    "        \n"
   ]
  },
  {
   "cell_type": "code",
   "execution_count": 4,
   "id": "52244a95",
   "metadata": {},
   "outputs": [
    {
     "name": "stdout",
     "output_type": "stream",
     "text": [
      "-1 5\n",
      "3\n"
     ]
    }
   ],
   "source": [
    "arr=[3,0,0,2,0,4]\n",
    "\n",
    "for l in range(len(arr)):\n",
    "    if l>0 and arr[l-1]>arr[l]:\n",
    "        break\n",
    "            \n",
    "    l-=1\n",
    "    for r in range(len(arr)-1,-1,-1):\n",
    "        if r<len(arr)-1 and arr[r]<arr[r+1]:\n",
    "            break\n",
    "    r+=1\n",
    "    print(l,r)\n",
    "    i=l\n",
    "    ab=0\n",
    "    while i!=r:\n",
    "    # for i in range(l,r,2):\n",
    "        s1=max(arr[i],arr[i+1])\n",
    "        s2=min(arr[i],arr[i+1])\n",
    "        ab=ab+(s1-s2)\n",
    "        i+=2\n",
    "    print(ab)"
   ]
  },
  {
   "cell_type": "code",
   "execution_count": 5,
   "id": "62d8ff20",
   "metadata": {},
   "outputs": [
    {
     "name": "stdout",
     "output_type": "stream",
     "text": [
      "[1, 3, 4, 7, 9]\n",
      "[3, 4, 7, 9, 9]\n",
      "[4, 7, 9, 9, 12]\n",
      "[7, 9, 9, 12, 56]\n",
      "6\n"
     ]
    }
   ],
   "source": [
    "A =[3, 4, 1, 9, 56, 7, 9, 12]\n",
    "A.sort()\n",
    "a,b=0,0\n",
    "i,j=0,0\n",
    "N=len(A)\n",
    "M=5\n",
    "minn=float('inf')\n",
    "while j<N:\n",
    "    if (j-i+1)<M:\n",
    "        j+=1\n",
    "    elif (j-i+1)==M:\n",
    "        a=A[i]\n",
    "        b=A[j]\n",
    "        d=b-a\n",
    "        if d<minn:\n",
    "            minn=d\n",
    "#         print(A[i:j+1])\n",
    "        i+=1\n",
    "        j+=1\n",
    "print(minn)"
   ]
  },
  {
   "cell_type": "code",
   "execution_count": null,
   "id": "1d3ae88c",
   "metadata": {},
   "outputs": [],
   "source": []
  }
 ],
 "metadata": {
  "kernelspec": {
   "display_name": "Python 3 (ipykernel)",
   "language": "python",
   "name": "python3"
  },
  "language_info": {
   "codemirror_mode": {
    "name": "ipython",
    "version": 3
   },
   "file_extension": ".py",
   "mimetype": "text/x-python",
   "name": "python",
   "nbconvert_exporter": "python",
   "pygments_lexer": "ipython3",
   "version": "3.9.7"
  }
 },
 "nbformat": 4,
 "nbformat_minor": 5
}
