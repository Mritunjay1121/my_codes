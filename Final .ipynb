{
 "cells": [
  {
   "cell_type": "markdown",
   "id": "4784cddb",
   "metadata": {},
   "source": [
    "# ARRAY"
   ]
  },
  {
   "cell_type": "code",
   "execution_count": 7,
   "id": "8e14074b",
   "metadata": {},
   "outputs": [
    {
     "name": "stdout",
     "output_type": "stream",
     "text": [
      "['o', 'l', 'l', 'e', 'h']\n"
     ]
    }
   ],
   "source": [
    "# 1. Reverse the array ...leetcode 344\n",
    "\n",
    "# gfg\n",
    "s=s[::-1] # in O(len(s)) and O(1) time\n",
    "\n",
    "# leetcode\n",
    "s = [\"h\",\"e\",\"l\",\"l\",\"o\"]\n",
    "i=0\n",
    "j=len(s)-1\n",
    "while i<=j:\n",
    "    s[i],s[j]=s[j],s[i]\n",
    "    i+=1\n",
    "    j-=1\n",
    "print(s)\n",
    "\n"
   ]
  },
  {
   "cell_type": "code",
   "execution_count": 13,
   "id": "8ade95bf",
   "metadata": {},
   "outputs": [],
   "source": [
    "# 2. Find minimum and maximum element in an array\n",
    "\n",
    "A = [3, 2, 1, 56, 10000, 167]\n",
    "\n",
    "for i in range(0,len(A)-1):\n",
    "    if A[i]>A[i+1]:\n",
    "        A[i],A[i+1]=A[i+1],A[i]\n",
    "maxx=A[-1]\n",
    "for i in range(0,len(A)-1):\n",
    "    if A[i]<A[i+1]:\n",
    "        A[i],A[i+1]=A[i+1],A[i]\n",
    "        \n",
    "\n",
    "minn=A[-1]\n",
    "        \n",
    "    "
   ]
  },
  {
   "cell_type": "code",
   "execution_count": 16,
   "id": "b52e1f07",
   "metadata": {},
   "outputs": [],
   "source": [
    "# 3. Kth max and min element in array\n",
    "k=2\n",
    "k=len(arr)-k\n",
    "\n",
    "def quickselect(l,r):\n",
    "    pivot=nums[r]\n",
    "    p=l\n",
    "    for i in range(l,r):\n",
    "        if nums[i]<=pivot:\n",
    "            nums[i],nums[p]=nums[p],nums[i]\n",
    "            p+=1\n",
    "            \n",
    "    nums[p],nums[r]=nums[r],nums[p]\n",
    "    \n",
    "    if k<p:\n",
    "        return quickselect(l,p-1)\n",
    "    elif k>p:\n",
    "        return quickselect(p+1,r)\n",
    "    else:\n",
    "        return nums[p]\n",
    "        \n"
   ]
  },
  {
   "cell_type": "code",
   "execution_count": null,
   "id": "2577a34e",
   "metadata": {},
   "outputs": [],
   "source": []
  }
 ],
 "metadata": {
  "kernelspec": {
   "display_name": "Python 3 (ipykernel)",
   "language": "python",
   "name": "python3"
  },
  "language_info": {
   "codemirror_mode": {
    "name": "ipython",
    "version": 3
   },
   "file_extension": ".py",
   "mimetype": "text/x-python",
   "name": "python",
   "nbconvert_exporter": "python",
   "pygments_lexer": "ipython3",
   "version": "3.9.7"
  }
 },
 "nbformat": 4,
 "nbformat_minor": 5
}
