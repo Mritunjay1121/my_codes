{
 "cells": [
  {
   "cell_type": "code",
   "execution_count": 4,
   "id": "79f6fc86",
   "metadata": {},
   "outputs": [
    {
     "name": "stdout",
     "output_type": "stream",
     "text": [
      "1471\n"
     ]
    }
   ],
   "source": [
    "s=0\n",
    "def T(n):\n",
    "    \n",
    "    if n==1:\n",
    "        return 1\n",
    "    return T(n-1)+15\n",
    "print(T(99))"
   ]
  },
  {
   "cell_type": "code",
   "execution_count": 1,
   "id": "659a2790",
   "metadata": {},
   "outputs": [
    {
     "name": "stdout",
     "output_type": "stream",
     "text": [
      "[1, 1, 2, 2, 3]\n"
     ]
    }
   ],
   "source": []
  },
  {
   "cell_type": "code",
   "execution_count": 5,
   "id": "13d52214",
   "metadata": {},
   "outputs": [
    {
     "name": "stdout",
     "output_type": "stream",
     "text": [
      "[1, 1, 2, 2, 3]\n",
      "0\n",
      "2\n",
      "4\n",
      "3\n"
     ]
    }
   ],
   "source": [
    "arr=[1 ,2 ,3 ,2 ,1]\n",
    "arr.sort()\n",
    "print(arr)\n",
    "N=len(arr)       \n",
    "a=0\n",
    "\n",
    "\n",
    "while a<=N:\n",
    "    print(a)\n",
    "    if (a==N-1):\n",
    "        return arr[a]\n",
    "        \n",
    "    elif arr[a]!=arr[a+1]:\n",
    "        return arr[a]\n",
    "        \n",
    "   \n",
    "    elif arr[a]==arr[a+1]:\n",
    "        a+=2\n"
   ]
  },
  {
   "cell_type": "code",
   "execution_count": 8,
   "id": "71c06668",
   "metadata": {},
   "outputs": [
    {
     "name": "stdout",
     "output_type": "stream",
     "text": [
      "after 0 [7, 72, 21, 60, 90]\n",
      "after 1 [7, 21, 60, 72, 90]\n",
      "after 2 [7, 21, 60, 72, 90]\n",
      "after 3 [7, 21, 60, 72, 90]\n",
      "after 4 [7, 21, 60, 72, 90]\n"
     ]
    }
   ],
   "source": [
    "def bubble():\n",
    "    for i in range(len(cust)):\n",
    "        for j in range(0,len(cust)-i-1):\n",
    "            if cust[j]>cust[j+1]:\n",
    "\n",
    "                cust[j],cust[j+1]=cust[j+1],cust[j]\n",
    "        print(\"after\",i,cust)\n",
    "bubble([7 ,72 ,90 ,21 ,60])"
   ]
  },
  {
   "cell_type": "code",
   "execution_count": 6,
   "id": "814217cd",
   "metadata": {},
   "outputs": [
    {
     "name": "stdout",
     "output_type": "stream",
     "text": [
      "[0, 1, 5, 10, 20, 30, 40, 60]\n"
     ]
    }
   ],
   "source": [
    "# Insertion sort\n",
    "\n",
    "ab=[20,5,40,60,10,30,1,0]\n",
    "for i in range(1,len(alist)):\n",
    "    z=0\n",
    "    for j in range(0+z,i):\n",
    "        if alist[i]<alist[j]:\n",
    "            alist[i],alist[j]=alist[j],alist[i]\n",
    "\n",
    "print(ab)"
   ]
  },
  {
   "cell_type": "code",
   "execution_count": 58,
   "id": "fbefffec",
   "metadata": {},
   "outputs": [
    {
     "name": "stdout",
     "output_type": "stream",
     "text": [
      "[0, 1, 5, 10, 20, 30, 40, 60]\n"
     ]
    }
   ],
   "source": [
    "#Selection sort\n",
    "\n",
    "cust=[20,5,40,60,10,30,1,0]\n",
    "for i in range(len(cust)):\n",
    "    minn =i\n",
    "    for j in range(i+1,len(cust)):\n",
    "        if cust[minn]>cust[j]:\n",
    "            minn=j\n",
    "    cust[i],cust[minn]=cust[minn],cust[i]\n",
    "print(cust)\n"
   ]
  },
  {
   "cell_type": "code",
   "execution_count": 64,
   "id": "f45467b0",
   "metadata": {},
   "outputs": [
    {
     "data": {
      "text/plain": [
       "'f'"
      ]
     },
     "execution_count": 64,
     "metadata": {},
     "output_type": "execute_result"
    }
   ],
   "source": [
    "ar=\"fdfe\"\n",
    "ar=\"f\"\n",
    "ar"
   ]
  },
  {
   "cell_type": "code",
   "execution_count": 71,
   "id": "a3131fed",
   "metadata": {},
   "outputs": [
    {
     "ename": "ValueError",
     "evalue": "invalid literal for int() with base 10: '0b1111'",
     "output_type": "error",
     "traceback": [
      "\u001b[1;31m---------------------------------------------------------------------------\u001b[0m",
      "\u001b[1;31mValueError\u001b[0m                                Traceback (most recent call last)",
      "\u001b[1;32m<ipython-input-71-4b2bfb133a37>\u001b[0m in \u001b[0;36m<module>\u001b[1;34m\u001b[0m\n\u001b[1;32m----> 1\u001b[1;33m \u001b[0mff\u001b[0m\u001b[1;33m=\u001b[0m\u001b[0mint\u001b[0m\u001b[1;33m(\u001b[0m\u001b[0mstr\u001b[0m\u001b[1;33m(\u001b[0m\u001b[1;33m(\u001b[0m\u001b[0mbin\u001b[0m\u001b[1;33m(\u001b[0m\u001b[1;36m15\u001b[0m\u001b[1;33m)\u001b[0m\u001b[1;33m)\u001b[0m\u001b[1;33m)\u001b[0m\u001b[1;33m)\u001b[0m\u001b[1;33m\u001b[0m\u001b[1;33m\u001b[0m\u001b[0m\n\u001b[0m\u001b[0;32m      2\u001b[0m \u001b[0mhh\u001b[0m\u001b[1;33m=\u001b[0m\u001b[1;36m100\u001b[0m\u001b[1;33m\u001b[0m\u001b[1;33m\u001b[0m\u001b[0m\n\u001b[0;32m      3\u001b[0m \u001b[0mprint\u001b[0m\u001b[1;33m(\u001b[0m\u001b[0mff\u001b[0m \u001b[1;33m&\u001b[0m \u001b[0mhh\u001b[0m\u001b[1;33m)\u001b[0m\u001b[1;33m\u001b[0m\u001b[1;33m\u001b[0m\u001b[0m\n",
      "\u001b[1;31mValueError\u001b[0m: invalid literal for int() with base 10: '0b1111'"
     ]
    }
   ],
   "source": [
    "ff=int(str((bin(15))))\n",
    "hh=100\n",
    "print(ff & hh)"
   ]
  },
  {
   "cell_type": "code",
   "execution_count": 6,
   "id": "9b57a998",
   "metadata": {},
   "outputs": [],
   "source": [
    "# A=[4, 42, 27, 16, 28, 3, 4, 5, 9, 3, 31, 5, 5, 29, 10, 18, 35, 35, 33, 19, 41, 23, 8 ,32 ,9 ,5 ,8 ,18,35,13,6,7, 6, 10, 11, 13, 37, 2 ,25, 7 ,28 ,43]\n",
    "# for i in range(1,len(A)-1):\n",
    "#     if len(A)==1:\n",
    "#             print(1)\n",
    "#     elif sum(A[:i])==sum(A[i+1:]):\n",
    "#         print(i+1)\n",
    "#     else:\n",
    "#         print(-1)\n",
    "\n",
    "# print(sum(A[:0]))"
   ]
  },
  {
   "cell_type": "code",
   "execution_count": 40,
   "id": "00542b41",
   "metadata": {},
   "outputs": [
    {
     "name": "stdout",
     "output_type": "stream",
     "text": [
      "4\n"
     ]
    }
   ],
   "source": [
    "A=[4, 42, 27, 16, 28,3, 4, 5, 9, 3, 31, 5, 5, 29, 10, 18, 35, 35, 33, 19, 41, 23, 8 ,32 ,9 ,5 ,8 ,18,35,13,6,7, 6, 10, 11, 13, 37, 2 ,25, 7 ,28 ,43]\n",
    "\n",
    "l=0\n",
    "ab=[]\n",
    "ac=[]\n",
    "j=0\n",
    "b=len(A)-1\n",
    "# for a in range(0,len(A)):\n",
    "#     l+=A[a]\n",
    "#     ab.append(l)\n",
    "# for b in range(len(A)-1,-1,-1):\n",
    "#     j+=A[b]\n",
    "#     ac.append(j)\n",
    "# for i in range(len(A)):\n",
    "#         if(ab[i] ==ac[len(A)-1 - i ]):\n",
    "#             print(i)\n",
    "    \n",
    "print(A.pop(0))\n",
    "    "
   ]
  },
  {
   "cell_type": "code",
   "execution_count": 43,
   "id": "fd783474",
   "metadata": {},
   "outputs": [
    {
     "name": "stdout",
     "output_type": "stream",
     "text": [
      "[100, 20, 4]\n"
     ]
    }
   ],
   "source": [
    "arr=[1,2,4]\n",
    "d=1\n",
    "for a in range(len(arr)-1,-1,-1):\n",
    "    arr[a]=arr[a]*d\n",
    "    d=d*10\n",
    "print(arr)"
   ]
  },
  {
   "cell_type": "code",
   "execution_count": 44,
   "id": "096daf36",
   "metadata": {},
   "outputs": [
    {
     "name": "stdout",
     "output_type": "stream",
     "text": [
      "[1, 100, 20, 4]\n"
     ]
    }
   ],
   "source": [
    "arr.insert(0,1)\n",
    "print(arr)"
   ]
  },
  {
   "cell_type": "code",
   "execution_count": 31,
   "id": "8f64c4ec",
   "metadata": {},
   "outputs": [
    {
     "name": "stdout",
     "output_type": "stream",
     "text": [
      "6\n",
      "5\n",
      "4\n",
      "3\n",
      "2\n",
      "1\n"
     ]
    }
   ],
   "source": [
    "def pp(n):\n",
    "    if (n==1):\n",
    "        print(n)\n",
    "        return \n",
    "    print(n)   \n",
    "    pp(n-1)\n",
    "  \n",
    "       \n",
    "pp(6)\n"
   ]
  },
  {
   "cell_type": "code",
   "execution_count": 56,
   "id": "4290d93f",
   "metadata": {},
   "outputs": [
    {
     "name": "stdout",
     "output_type": "stream",
     "text": [
      "1 [1, 1, 1, 1]\n",
      "grg 2 [1, 1, 1, 1]\n",
      "2 [1, 1, 1, 1]\n",
      "grg 3 [1, 2, 1, 1]\n",
      "3 [1, 2, 1, 1]\n",
      "grg 4 [1, 3, 4, 1]\n",
      "4 [1, 3, 4, 1]\n",
      "grg 5 [1, 4, 8, 9]\n",
      "Gr\n",
      "[1, 4, 8, 9]\n"
     ]
    }
   ],
   "source": [
    "def pascal(arr,n,s):\n",
    "    if s>n:\n",
    "        print(\"Gr\")\n",
    "        return arr\n",
    "    else:\n",
    "        print(s,arr)\n",
    "        prev=rr\n",
    "        for a in range(1,s):\n",
    "            arr[a]=prev[a-1]+prev[a]\n",
    "        s+=1\n",
    "        \n",
    "        print(\"grg\",s,arr)\n",
    "        return pascal(arr,n,s)\n",
    "print(pascal([1,1,1,1],4,1))"
   ]
  },
  {
   "cell_type": "code",
   "execution_count": 32,
   "id": "845f463c",
   "metadata": {},
   "outputs": [],
   "source": [
    "for a in range(0):\n",
    "    print(a)"
   ]
  },
  {
   "cell_type": "code",
   "execution_count": 61,
   "id": "8412be82",
   "metadata": {},
   "outputs": [
    {
     "name": "stdout",
     "output_type": "stream",
     "text": [
      "['B', 'C', 'D']\n",
      "['B', 'D']\n",
      "['D']\n",
      "dd ['D']\n"
     ]
    }
   ],
   "source": [
    "arr=[\"A\",\"B\",\"C\",\"D\"]\n",
    "def ff(arr,n,h,k):\n",
    "    if len(arr)==1:\n",
    "        return \n",
    "    else:\n",
    "        h=len(arr)%k\n",
    "        del arr[h]\n",
    "        print(arr)\n",
    "        return ff(arr,n,h+1,k)\n",
    "  \n",
    "ff(arr,4,0,2)"
   ]
  },
  {
   "cell_type": "code",
   "execution_count": 65,
   "id": "18b11787",
   "metadata": {},
   "outputs": [
    {
     "name": "stdout",
     "output_type": "stream",
     "text": [
      "1\n"
     ]
    }
   ],
   "source": [
    "def printe(n):\n",
    "    if n==1:\n",
    "        print(1)\n",
    "        return \n",
    "    else:\n",
    "        m=0\n",
    "        return printe(n-1)\n",
    "        \n",
    "printe(5)"
   ]
  },
  {
   "cell_type": "code",
   "execution_count": 14,
   "id": "06b60f23",
   "metadata": {},
   "outputs": [
    {
     "name": "stdout",
     "output_type": "stream",
     "text": [
      "d    bcas\n",
      "d bcas\n"
     ]
    }
   ],
   "source": [
    "s=\"abcas\"\n",
    "k=s[0]\n",
    "s=s.replace(s[0],\"   \",1)\n",
    "\n",
    "print(\"d\",s)\n",
    "s=s.lstrip()\n",
    "print(\"d\",s)"
   ]
  },
  {
   "cell_type": "code",
   "execution_count": 19,
   "id": "488a3f05",
   "metadata": {},
   "outputs": [
    {
     "name": "stdout",
     "output_type": "stream",
     "text": [
      "bcasd\n"
     ]
    }
   ],
   "source": [
    "s=s+\"d\"\n",
    "print(s)"
   ]
  },
  {
   "cell_type": "code",
   "execution_count": 25,
   "id": "1efc9026",
   "metadata": {},
   "outputs": [
    {
     "name": "stdout",
     "output_type": "stream",
     "text": [
      "['A B C', 'A BC', 'AB C', 'ABC']\n"
     ]
    }
   ],
   "source": [
    "inp=\"BC\"\n",
    "op=\"A\"\n",
    "opl=[]\n",
    "def solve(inp,op,opl):\n",
    "    if len(inp)==0:\n",
    "        opl.append(op)\n",
    "#         print(op)\n",
    "        return\n",
    "    else:\n",
    "        op1=op\n",
    "        op2=op\n",
    "        op1=op1+\" \"+inp[0]\n",
    "        op2=op2+inp[0]\n",
    "        inp=inp.replace(inp[0],\" \",1)\n",
    "        inp=inp.lstrip()\n",
    "        solve(inp,op1,opl)\n",
    "        solve(inp,op2,opl)\n",
    "    return opl\n",
    "        \n",
    "print(solve(inp,op,opl))"
   ]
  },
  {
   "cell_type": "code",
   "execution_count": 4,
   "id": "466a3ef0",
   "metadata": {},
   "outputs": [
    {
     "data": {
      "text/plain": [
       "[[0, 0, 0, 0, 0, 0, 0, 0, 0, 0, 0],\n",
       " [0, 0, 0, 0, 0, 0, 0, 0, 0, 0, 0],\n",
       " [0, 0, 0, 0, 0, 0, 0, 0, 0, 0, 0],\n",
       " [0, 0, 0, 0, 0, 0, 0, 0, 0, 0, 0],\n",
       " [0, 0, 0, 0, 0, 0, 0, 0, 0, 0, 0]]"
      ]
     },
     "execution_count": 4,
     "metadata": {},
     "output_type": "execute_result"
    }
   ],
   "source": [
    "t=[[0 for i in range(10+1)] for i in range(4+1) ]\n",
    "t"
   ]
  },
  {
   "cell_type": "code",
   "execution_count": 7,
   "id": "bf667c5f",
   "metadata": {},
   "outputs": [],
   "source": [
    "sum=8\n",
    "n=4\n",
    "\n",
    "tab = [[0] * (sum + 1) for i in range(n + 1)]\n",
    "tab[0][0] = 1\n",
    "for i in range(1, sum + 1):\n",
    "    tab[0][i] = 0"
   ]
  },
  {
   "cell_type": "code",
   "execution_count": 8,
   "id": "3ada5f8b",
   "metadata": {},
   "outputs": [
    {
     "data": {
      "text/plain": [
       "[[1, 0, 0, 0, 0, 0, 0, 0, 0],\n",
       " [0, 0, 0, 0, 0, 0, 0, 0, 0],\n",
       " [0, 0, 0, 0, 0, 0, 0, 0, 0],\n",
       " [0, 0, 0, 0, 0, 0, 0, 0, 0],\n",
       " [0, 0, 0, 0, 0, 0, 0, 0, 0]]"
      ]
     },
     "execution_count": 8,
     "metadata": {},
     "output_type": "execute_result"
    }
   ],
   "source": [
    "tab"
   ]
  },
  {
   "cell_type": "code",
   "execution_count": 13,
   "id": "08b8303e",
   "metadata": {},
   "outputs": [
    {
     "name": "stdout",
     "output_type": "stream",
     "text": [
      "2\n"
     ]
    }
   ],
   "source": [
    "pat=\"aaba\"\n",
    "m={\"a\":0,\"b\":0}\n",
    "# for i in pat:\n",
    "                \n",
    "#     if i in m:\n",
    "#         m[i]+=1\n",
    "#     else:\n",
    "#         m[i]=1\n",
    "print(len(m))"
   ]
  },
  {
   "cell_type": "code",
   "execution_count": 1,
   "id": "cf7bf095",
   "metadata": {},
   "outputs": [
    {
     "name": "stdout",
     "output_type": "stream",
     "text": [
      "[0, 1]\n"
     ]
    }
   ],
   "source": [
    "nums = [2,7,11,15]\n",
    "target = 9\n",
    "\n",
    "summ=sum(nums)\n",
    "for i in range(len(nums)):\n",
    "    cv=target-nums[i]\n",
    "    if (cv in nums) and (nums.index(cv)!=i):\n",
    "        print([i,nums.index(cv)])\n",
    "        break\n",
    "        \n",
    "    "
   ]
  },
  {
   "cell_type": "code",
   "execution_count": 32,
   "id": "4616f89d",
   "metadata": {},
   "outputs": [
    {
     "name": "stdout",
     "output_type": "stream",
     "text": [
      "[6, 3, 5, 5, 6, 7]\n"
     ]
    }
   ],
   "source": [
    "import math\n",
    "arr=[6,3,-1,-3,5,3,6,7]\n",
    "i=0\n",
    "j=0\n",
    "l=[-math.inf]\n",
    "k=3\n",
    "mx=-math.inf\n",
    "while j<len(arr):\n",
    "    if (j-i+1)<k:\n",
    "        mx=max(l[0],arr[j])\n",
    "        l[0]=mx\n",
    "        j+=1\n",
    "#         l.append(mx)\n",
    "    elif (j-i+1)==k:\n",
    "        hh=max(arr[i:j+1])\n",
    "        l.append(hh)\n",
    "        j+=1\n",
    "        i+=1\n",
    "        \n",
    "l.pop(0)\n",
    "print(l)\n",
    "        "
   ]
  },
  {
   "cell_type": "code",
   "execution_count": 22,
   "id": "7f00df2f",
   "metadata": {},
   "outputs": [
    {
     "name": "stdout",
     "output_type": "stream",
     "text": [
      "0\n"
     ]
    }
   ],
   "source": [
    "import math\n",
    "mx=-math.inf\n",
    "print(max(mx,0))"
   ]
  },
  {
   "cell_type": "code",
   "execution_count": 13,
   "id": "9b878f39",
   "metadata": {},
   "outputs": [
    {
     "name": "stdout",
     "output_type": "stream",
     "text": [
      "<class 'str'>\n"
     ]
    }
   ],
   "source": [
    "aa=[1,2,3]\n",
    "ab=\"\".join(str(aa))\n",
    "print(type(ab))\n",
    "\n"
   ]
  },
  {
   "cell_type": "code",
   "execution_count": 1,
   "id": "9ae85924",
   "metadata": {},
   "outputs": [
    {
     "name": "stdout",
     "output_type": "stream",
     "text": [
      "{'u', 's', 'j', 'h', 'n', 'f'}\n"
     ]
    }
   ],
   "source": [
    "a=\"fshjhsufhnf\"\n",
    "b=set(a)\n",
    "print(b)"
   ]
  },
  {
   "cell_type": "code",
   "execution_count": 15,
   "id": "c2f77516",
   "metadata": {},
   "outputs": [
    {
     "name": "stdout",
     "output_type": "stream",
     "text": [
      "[5, 2, 4, 7, 1, 8, 0] [-5, -2, -8]\n",
      "[5, -5, 5, 2, 4, 7, 1, 8, 0, -8]\n",
      "[5, -5, 2, -2, 4, 7, 1, 8, 0, -8]\n",
      "[5, -5, 2, -2, 4, -8, 1, 8, 0, -8]\n",
      "[5, -5, 2, -2, 4, -8, 7, 8, 0, -8]\n",
      "[5, -5, 2, -2, 4, -8, 7, 8, 1, -8]\n",
      "[5, -5, 2, -2, 4, -8, 7, 8, 1, -8]\n"
     ]
    }
   ],
   "source": [
    "ab=[-5, -2, 5, 2, 4, 7, 1, 8, 0, -8]\n",
    "kk=len(ab)\n",
    "p=[]\n",
    "n=[]\n",
    "for i in range(len(ab)):\n",
    "    if ab[i]>=0:\n",
    "        p.append(ab[i])\n",
    "    elif ab[i]<0:\n",
    "        n.append(ab[i])\n",
    "print(p,n)\n",
    "j=0\n",
    "for i in range(0,kk-1,2):\n",
    "    try:\n",
    "        ab[i]=p[j]\n",
    "    except:\n",
    "        pass\n",
    "    try:\n",
    "        ab[i+1]=n[j]\n",
    "    except:\n",
    "        pass\n",
    "    j+=1\n",
    "    print(ab)\n",
    "    \n",
    "print(ab)\n"
   ]
  },
  {
   "cell_type": "code",
   "execution_count": 21,
   "id": "4889a84a",
   "metadata": {},
   "outputs": [
    {
     "name": "stdout",
     "output_type": "stream",
     "text": [
      "[1, 3, 4, 5] 2\n"
     ]
    }
   ],
   "source": [
    "arr=[1,2,3,4,5]\n",
    "ab=arr.pop(1)\n",
    "print(arr,ab)"
   ]
  },
  {
   "cell_type": "code",
   "execution_count": null,
   "id": "edb2ab7b",
   "metadata": {},
   "outputs": [],
   "source": [
    "# a=[1,1,2,3]\n",
    "a=list(map(int,input().split()))\n",
    "\n",
    "ab=[]\n",
    "for j in range(len(a)):\n",
    "    d=a[:]\n",
    "    hh=d.pop(j)\n",
    "    flag=False\n",
    "    \n",
    "    for i in range(len(d)):\n",
    "        h=d[:]\n",
    "        \n",
    "        k=h.pop(i)\n",
    "        if k==sum(h):\n",
    "            flag=True\n",
    "    if flag==True:\n",
    "        ab.append(j+1)\n",
    "print(ab)"
   ]
  },
  {
   "cell_type": "code",
   "execution_count": 2,
   "id": "654c4a0d",
   "metadata": {},
   "outputs": [
    {
     "name": "stdout",
     "output_type": "stream",
     "text": [
      "defaultdict(<function <lambda> at 0x05C663D8>, {})\n"
     ]
    }
   ],
   "source": [
    "from collections import defaultdict\n",
    "prevSum = defaultdict(lambda : 0)\n",
    "print(prevSum)"
   ]
  },
  {
   "cell_type": "code",
   "execution_count": 3,
   "id": "6f94709b",
   "metadata": {},
   "outputs": [
    {
     "name": "stdout",
     "output_type": "stream",
     "text": [
      "[1, 2, 3, 4, 5, 6, 7, 8, 9]\n"
     ]
    }
   ],
   "source": [
    "arr=[[1,2,3],[4,5,6],[7,8,9]]\n",
    "ll=[]\n",
    "for i in arr:\n",
    "   \n",
    "   ll=sorted(ll+i)\n",
    "print(ll)"
   ]
  },
  {
   "cell_type": "code",
   "execution_count": 5,
   "id": "02f47605",
   "metadata": {},
   "outputs": [
    {
     "ename": "NameError",
     "evalue": "name 'reverse' is not defined",
     "output_type": "error",
     "traceback": [
      "\u001b[1;31m---------------------------------------------------------------------------\u001b[0m",
      "\u001b[1;31mNameError\u001b[0m                                 Traceback (most recent call last)",
      "\u001b[1;32m<ipython-input-5-9603964921d3>\u001b[0m in \u001b[0;36m<module>\u001b[1;34m\u001b[0m\n\u001b[0;32m      1\u001b[0m \u001b[0matr\u001b[0m\u001b[1;33m=\u001b[0m\u001b[1;34m\"fd\"\u001b[0m\u001b[1;33m\u001b[0m\u001b[1;33m\u001b[0m\u001b[0m\n\u001b[1;32m----> 2\u001b[1;33m \u001b[0ma\u001b[0m\u001b[1;33m=\u001b[0m\u001b[0mreverse\u001b[0m\u001b[1;33m(\u001b[0m\u001b[0matr\u001b[0m\u001b[1;33m)\u001b[0m\u001b[1;33m\u001b[0m\u001b[1;33m\u001b[0m\u001b[0m\n\u001b[0m",
      "\u001b[1;31mNameError\u001b[0m: name 'reverse' is not defined"
     ]
    }
   ],
   "source": [
    "atr=\"fd\"\n",
    "atr.re"
   ]
  },
  {
   "cell_type": "code",
   "execution_count": 17,
   "id": "ed81828e",
   "metadata": {},
   "outputs": [
    {
     "name": "stdout",
     "output_type": "stream",
     "text": [
      "{2: 0, 4: 0}\n",
      "{2: 80, 4: 120}\n"
     ]
    }
   ],
   "source": [
    "time=[2,4]\n",
    "d={}\n",
    "A=[10,20,30]\n",
    "for i in time:\n",
    "    if i not in d:\n",
    "        d[i]=0\n",
    "print(d)\n",
    "for j in range(len(A)):\n",
    "    m=float('inf')\n",
    "\n",
    "    for i in range(len(time)):\n",
    "        k=d[time[i]]+(A[j]*time[i])\n",
    "        \n",
    "        if k<m:\n",
    "            l=time[i]\n",
    "            m=k\n",
    "            \n",
    "    d[l]+=m\n",
    "print(d)\n",
    "\n",
    "    "
   ]
  },
  {
   "cell_type": "code",
   "execution_count": 3,
   "id": "ce50cd9f",
   "metadata": {},
   "outputs": [
    {
     "name": "stdout",
     "output_type": "stream",
     "text": [
      "inf\n"
     ]
    }
   ],
   "source": [
    "min=float('inf')\n",
    "print(min)"
   ]
  },
  {
   "cell_type": "code",
   "execution_count": 16,
   "id": "bdd6335a",
   "metadata": {},
   "outputs": [
    {
     "name": "stdout",
     "output_type": "stream",
     "text": [
      "1 2 3\n",
      "[<map object at 0x0533C150>]\n"
     ]
    }
   ],
   "source": [
    "l=[]\n",
    "l.append(map(int,input().split()))\n",
    "print(l)"
   ]
  },
  {
   "cell_type": "code",
   "execution_count": 31,
   "id": "b74974d1",
   "metadata": {},
   "outputs": [
    {
     "name": "stdout",
     "output_type": "stream",
     "text": [
      "4\n",
      "0 0\n",
      "0 2\n",
      "2 2\n",
      "2 0\n",
      "4\n"
     ]
    }
   ],
   "source": [
    "def func():\n",
    "    N=int(input())\n",
    "    l=[]\n",
    "    for i in range(N):\n",
    "      l.append(list(map(int,input().split())))\n",
    "\n",
    "    abx={}\n",
    "    aby={}\n",
    "    for i in range(len(l)):\n",
    "        if l[i][0] not in abx:\n",
    "            abx[l[i][0]]=1\n",
    "        else:\n",
    "            abx[l[i][0]]+=1\n",
    "        if l[i][1] not in aby:\n",
    "            aby[l[i][1]]=1\n",
    "        else:\n",
    "            aby[l[i][1]]+=1\n",
    "    kx=0\n",
    "    ky=0\n",
    "    for a in list(abx.values()):\n",
    "        if a>2:\n",
    "            kx=a-2\n",
    "    for b in list(aby.values()):\n",
    "        if b>2:\n",
    "            ky=b-2\n",
    "    return len(l)-(kx+ky)\n",
    "print(func())"
   ]
  },
  {
   "cell_type": "code",
   "execution_count": 18,
   "id": "34fd5494",
   "metadata": {},
   "outputs": [
    {
     "name": "stdout",
     "output_type": "stream",
     "text": [
      "{1: 1}\n",
      "{1: 1, 5: 1}\n",
      "{1: 1, 5: 1, 4: 1}\n",
      "{1: 1, 5: 1, 4: 1, 2: 1}\n",
      "{1: 1, 5: 1, 4: 1, 2: 1, 7: 1}\n",
      "{1: 1, 5: 1, 4: 1, 2: 1, 7: 1, -1: 1}\n",
      "3\n"
     ]
    }
   ],
   "source": [
    "# Count pairs with given sum \n",
    "\n",
    "arr=[1, 5, 4,2,7,-1]\n",
    "\n",
    "dd={}\n",
    "c=0\n",
    "k=6\n",
    "for i in range(len(arr)):\n",
    "    if k-arr[i] in dd:\n",
    "        c+=dd[k-arr[i]]\n",
    "    if arr[i] in dd:\n",
    "        dd[arr[i]]+=1\n",
    "\n",
    "    else:\n",
    "        dd[arr[i]]=1\n",
    "    print(dd)\n",
    "print(c)"
   ]
  },
  {
   "cell_type": "code",
   "execution_count": 26,
   "id": "4fea05c0",
   "metadata": {},
   "outputs": [
    {
     "name": "stdout",
     "output_type": "stream",
     "text": [
      "[2, 3, 4]\n"
     ]
    }
   ],
   "source": [
    "import numpy as np\n",
    "aa=set([1,2,3,4])\n",
    "ab=set([2,3,4,5])\n",
    "l=[]\n",
    "for a in aa:\n",
    "    if a in ab:\n",
    "        l.append(a)\n",
    "print(l)\n"
   ]
  },
  {
   "cell_type": "code",
   "execution_count": 2,
   "id": "529ead57",
   "metadata": {},
   "outputs": [
    {
     "data": {
      "text/plain": [
       "[51,\n",
       " 53,\n",
       " 61,\n",
       " 61,\n",
       " 62,\n",
       " 66,\n",
       " 67,\n",
       " 68,\n",
       " 79,\n",
       " 80,\n",
       " 81,\n",
       " 87,\n",
       " 90,\n",
       " 92,\n",
       " 101,\n",
       " 103,\n",
       " 104,\n",
       " 104,\n",
       " 107,\n",
       " 110,\n",
       " 110,\n",
       " 110,\n",
       " 111,\n",
       " 111,\n",
       " 116,\n",
       " 117,\n",
       " 119,\n",
       " 123,\n",
       " 129,\n",
       " 139,\n",
       " 145]"
      ]
     },
     "execution_count": 2,
     "metadata": {},
     "output_type": "execute_result"
    }
   ],
   "source": [
    "values = [87, 53, 66, 61, 67, 68, 62,\n",
    "          110, 104, 61, 111, 123, 117,\n",
    "          119, 116, 104, 92, 111, 90,\n",
    "          103, 81, 80, 101, 51, 79, 107,\n",
    "          110, 129, 145, 139, 110]\n",
    "values.sort()\n",
    "values"
   ]
  },
  {
   "cell_type": "code",
   "execution_count": null,
   "id": "8152c5d5",
   "metadata": {},
   "outputs": [],
   "source": []
  }
 ],
 "metadata": {
  "kernelspec": {
   "display_name": "Python 3 (ipykernel)",
   "language": "python",
   "name": "python3"
  },
  "language_info": {
   "codemirror_mode": {
    "name": "ipython",
    "version": 3
   },
   "file_extension": ".py",
   "mimetype": "text/x-python",
   "name": "python",
   "nbconvert_exporter": "python",
   "pygments_lexer": "ipython3",
   "version": "3.9.7"
  }
 },
 "nbformat": 4,
 "nbformat_minor": 5
}
